{
 "cells": [
  {
   "cell_type": "markdown",
   "metadata": {},
   "source": [
    "# Implementation of AES in CBC mode and counter mode (CTR)"
   ]
  },
  {
   "cell_type": "markdown",
   "metadata": {},
   "source": [
    "## 0. Import Libraries"
   ]
  },
  {
   "cell_type": "code",
   "execution_count": 5,
   "metadata": {},
   "outputs": [],
   "source": [
    "from Crypto.Cipher import AES\n",
    "import codecs"
   ]
  },
  {
   "cell_type": "markdown",
   "metadata": {},
   "source": [
    "## 1. CBC mode"
   ]
  },
  {
   "cell_type": "code",
   "execution_count": 36,
   "metadata": {},
   "outputs": [],
   "source": [
    "def decrypt_cbc(key,ciphertext):\n",
    "  # decode the hex string\n",
    "  key = codecs.decode(key,'hex')\n",
    "  ciphertext = codecs.decode(ciphertext,'hex')\n",
    "  # get block size \n",
    "  size = AES.block_size\n",
    "  # get initial iv\n",
    "  iv = ciphertext[:size]\n",
    "  cipher = AES.new(key, AES.MODE_CBC, iv)\n",
    "  # remove the iv from ciphertext\n",
    "  msg = cipher.decrypt(ciphertext[size:])\n",
    "  return print(msg)"
   ]
  },
  {
   "cell_type": "code",
   "execution_count": 37,
   "metadata": {},
   "outputs": [
    {
     "name": "stdout",
     "output_type": "stream",
     "text": [
      "--------QUESTION 1--------\n",
      "b'Basic CBC mode encryption needs padding.\\x08\\x08\\x08\\x08\\x08\\x08\\x08\\x08'\n"
     ]
    }
   ],
   "source": [
    "print(\"--------QUESTION 1--------\")\n",
    "key1 = \"140b41b22a29beb4061bda66b6747e14\"\n",
    "ciphertext1 = \"4ca00ff4c898d61e1edbf1800618fb2828a226d160dad07883d04e00\\\n",
    "8a7897ee2e4b7465d5290d0c0e6c6822236e1daafb94ffe0c5da05d9476be028ad7c1d81\"\n",
    "decrypt_cbc(key1,ciphertext1)"
   ]
  },
  {
   "cell_type": "code",
   "execution_count": 38,
   "metadata": {},
   "outputs": [
    {
     "name": "stdout",
     "output_type": "stream",
     "text": [
      "--------QUESTION 2--------\n",
      "b'Our implementation uses rand. IV\\x10\\x10\\x10\\x10\\x10\\x10\\x10\\x10\\x10\\x10\\x10\\x10\\x10\\x10\\x10\\x10'\n"
     ]
    }
   ],
   "source": [
    "print(\"--------QUESTION 2--------\")\n",
    "key2=\"140b41b22a29beb4061bda66b6747e14\"\n",
    "ciphertext2 = \"5b68629feb8606f9a6667670b75b38a5b4832d0f26e1ab7da33249de7d4afc48\\\n",
    "e713ac646ace36e872ad5fb8a512428a6e21364b0c374df45503473c5242a253\"\n",
    "decrypt_cbc(key2,ciphertext2)"
   ]
  },
  {
   "cell_type": "markdown",
   "metadata": {},
   "source": [
    "## 2. CTR mode"
   ]
  },
  {
   "cell_type": "code",
   "execution_count": 24,
   "metadata": {},
   "outputs": [],
   "source": [
    "def pycrypto_ctr_decrypt(key, iv, data): #to decrypt the block cipher\n",
    "    crypt = AES.new(key, AES.MODE_CTR, counter=lambda: iv)\n",
    "    return crypt.decrypt(data)"
   ]
  },
  {
   "cell_type": "markdown",
   "metadata": {},
   "source": [
    "As an IV, the value of a counter (Counter, Counter + 1,…, Counter + N – 1) is used.\n",
    "for each loop, we increment iv/counter by 1"
   ]
  },
  {
   "cell_type": "markdown",
   "metadata": {},
   "source": [
    "CTR mode works on units of a fixed size (128 bits for 1 block), but text in the real world has a variety of lengths. So, the last block of the text provided to this primitive must be padded to 128 bits before encryption or decryption."
   ]
  },
  {
   "cell_type": "code",
   "execution_count": 33,
   "metadata": {},
   "outputs": [],
   "source": [
    "def decrypt_ctr(key,cipher):\n",
    "  clearText = ''.encode('utf-8') #store plaintext\n",
    "  # decode hex key\n",
    "  key = codecs.decode(key,'hex') \n",
    "  # get block size from the given ciphertext\n",
    "  ctr_block = len(cipher) // 32 \n",
    "  # slice the given ciphertext to block, and get iv/counter by increasing 1\n",
    "  for i in range (0,ctr_block):\n",
    "    iv = codecs.decode(hex(int(cipher[:32], 16) + i)[2:],'hex')\n",
    "    if (32*(i+2) <= 128):\n",
    "      ct = codecs.decode(cipher[32*(i+1):32*(i+2)],'hex')\n",
    "    else: \n",
    "      ct = codecs.decode(cipher[128:],'hex')\n",
    "    clearText += pycrypto_ctr_decrypt(key, iv, ct)\n",
    "  return print(clearText)"
   ]
  },
  {
   "cell_type": "code",
   "execution_count": 34,
   "metadata": {},
   "outputs": [
    {
     "name": "stdout",
     "output_type": "stream",
     "text": [
      "--------QUESTION 3--------\n",
      "b'CTR mode lets you build a stream cipher from a block cipher.'\n"
     ]
    }
   ],
   "source": [
    "print(\"--------QUESTION 3--------\")\n",
    "key3 = \"36f18357be4dbd77f050515c73fcf9f2\"\n",
    "ciphertext3 = \"69dda8455c7dd4254bf353b773304eec0ec7702330098ce7f7520d1cbbb20fc3\\\n",
    "88d1b0adb5054dbd7370849dbf0b88d393f252e764f1f5f7ad97ef79d59ce29f5f51eeca32eabedd9afa9329\"\n",
    "decrypt_ctr(key3,ciphertext3)"
   ]
  },
  {
   "cell_type": "code",
   "execution_count": 35,
   "metadata": {},
   "outputs": [
    {
     "name": "stdout",
     "output_type": "stream",
     "text": [
      "--------QUESTION 4--------\n",
      "b'Always avoid the two time pad!'\n"
     ]
    }
   ],
   "source": [
    "print(\"--------QUESTION 4--------\")\n",
    "key4=\"36f18357be4dbd77f050515c73fcf9f2\"\n",
    "ciphertext4 = \"770b80259ec33beb2561358a9f2dc617e46218c0a53cbeca695ae45faa8952aa\\\n",
    "0e311bde9d4e01726d3184c34451\"\n",
    "decrypt_ctr(key4,ciphertext4)"
   ]
  }
 ],
 "metadata": {
  "interpreter": {
   "hash": "6ad2903d9f8eb78095a8e1054d3b7d96029c25240c1559c5c7674409ebbac066"
  },
  "kernelspec": {
   "display_name": "Python 3.7.4 64-bit ('base': conda)",
   "language": "python",
   "name": "python3"
  },
  "language_info": {
   "codemirror_mode": {
    "name": "ipython",
    "version": 3
   },
   "file_extension": ".py",
   "mimetype": "text/x-python",
   "name": "python",
   "nbconvert_exporter": "python",
   "pygments_lexer": "ipython3",
   "version": "3.7.4"
  },
  "orig_nbformat": 4
 },
 "nbformat": 4,
 "nbformat_minor": 2
}
